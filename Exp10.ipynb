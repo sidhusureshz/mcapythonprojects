{
 "cells": [
  {
   "cell_type": "code",
   "execution_count": 8,
   "id": "fc6f1b30-91b3-4dc3-9de5-204bd65789be",
   "metadata": {},
   "outputs": [
    {
     "name": "stdin",
     "output_type": "stream",
     "text": [
      "Enter numbers for l1:  1 2 3 \n",
      "Enter numbers for l2:  4 5 6\n"
     ]
    },
    {
     "name": "stdout",
     "output_type": "stream",
     "text": [
      "list are same length: True\n",
      "both list sums to same value: False\n",
      "any value occur in both: False\n"
     ]
    }
   ],
   "source": [
    "l1 = list(map(int, input(\"Enter numbers for l1: \").split()))\n",
    "l2 = list(map(int, input(\"Enter numbers for l2: \").split()))\n",
    "print(\"list are same length:\",len(l1) == len(l2))\n",
    "print(\"both list sums to same value:\",sum(l1) == sum(l2))\n",
    "print(\"any value occur in both:\",bool(set(l1).intersection(l2)))\n"
   ]
  },
  {
   "cell_type": "code",
   "execution_count": 10,
   "id": "4e4b7737-9042-4850-b726-532b510f9c47",
   "metadata": {},
   "outputs": [
    {
     "name": "stdin",
     "output_type": "stream",
     "text": [
      "enter the string: run\n"
     ]
    },
    {
     "name": "stdout",
     "output_type": "stream",
     "text": [
      "the modified string is: runing\n"
     ]
    }
   ],
   "source": [
    "s=input(\"enter the string:\")\n",
    "if s.endswith(\"ing\"):\n",
    "    s += \"ly\" \n",
    "else:\n",
    "    s +=\"ing\"\n",
    "print(\"the modified string is:\",s)"
   ]
  },
  {
   "cell_type": "code",
   "execution_count": null,
   "id": "454a1482-f7bb-483a-b9e9-94125a7363df",
   "metadata": {},
   "outputs": [],
   "source": []
  }
 ],
 "metadata": {
  "kernelspec": {
   "display_name": "Python 3 (ipykernel)",
   "language": "python",
   "name": "python3"
  },
  "language_info": {
   "codemirror_mode": {
    "name": "ipython",
    "version": 3
   },
   "file_extension": ".py",
   "mimetype": "text/x-python",
   "name": "python",
   "nbconvert_exporter": "python",
   "pygments_lexer": "ipython3",
   "version": "3.11.7"
  }
 },
 "nbformat": 4,
 "nbformat_minor": 5
}
