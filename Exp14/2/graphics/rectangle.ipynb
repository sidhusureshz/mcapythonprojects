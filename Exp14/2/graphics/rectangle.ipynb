{
 "cells": [
  {
   "cell_type": "code",
   "execution_count": null,
   "id": "e4038787-f11c-43da-8bf7-33d933de9d7c",
   "metadata": {},
   "outputs": [],
   "source": [
    "def area(l,b):\n",
    "    return l*b\n",
    "\n",
    "def perimeter(l,b):\n",
    "    return 2*(l*b)"
   ]
  }
 ],
 "metadata": {
  "kernelspec": {
   "display_name": "Python 3 (ipykernel)",
   "language": "python",
   "name": "python3"
  },
  "language_info": {
   "codemirror_mode": {
    "name": "ipython",
    "version": 3
   },
   "file_extension": ".py",
   "mimetype": "text/x-python",
   "name": "python",
   "nbconvert_exporter": "python",
   "pygments_lexer": "ipython3",
   "version": "3.11.7"
  }
 },
 "nbformat": 4,
 "nbformat_minor": 5
}
