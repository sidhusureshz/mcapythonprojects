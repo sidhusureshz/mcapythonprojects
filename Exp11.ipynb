{
 "cells": [
  {
   "cell_type": "code",
   "execution_count": 7,
   "id": "7152fd01-03c4-42d9-b430-549e5694dfe3",
   "metadata": {},
   "outputs": [
    {
     "name": "stdin",
     "output_type": "stream",
     "text": [
      "Enter a line  text: Hello world hello world\n"
     ]
    },
    {
     "name": "stdout",
     "output_type": "stream",
     "text": [
      "The Number of occurances are; {'Hello': 1, 'world': 2, 'hello': 1}\n"
     ]
    }
   ],
   "source": [
    "#1count word occurances in a line of text\n",
    "text=input(\"Enter a line  text:\")\n",
    "words=text.split()\n",
    "w_count={}\n",
    "for w in words:\n",
    "    if w in w_count:\n",
    "        w_count[w] += 1\n",
    "    else:\n",
    "        w_count[w]=1   \n",
    "print(\"The Number of occurances are;\",w_count)       \n",
    "        \n"
   ]
  },
  {
   "cell_type": "code",
   "execution_count": 1,
   "id": "c67c923e-17b6-4614-bf2b-f4c17626c5b9",
   "metadata": {},
   "outputs": [
    {
     "name": "stdin",
     "output_type": "stream",
     "text": [
      "Enter the numbers: 11 22 333 444 4\n"
     ]
    },
    {
     "name": "stdout",
     "output_type": "stream",
     "text": [
      "the converted list is: [11, 22, 'over', 'over', 4]\n"
     ]
    }
   ],
   "source": [
    "#2prompt the user for  a list of integers.for all values greater than 100,store 'over' instead\n",
    "num=list(map(int,input(\"Enter the numbers:\").split()))    \n",
    "result=[]\n",
    "for x in num:  \n",
    "    if x>100:\n",
    "        result.append('over')\n",
    "    else:\n",
    "        result.append(x)\n",
    "print(\"the converted list is:\",result)        \n",
    "\n",
    "    "
   ]
  },
  {
   "cell_type": "code",
   "execution_count": 9,
   "id": "eb952526-fbf1-4130-a102-6e04efbee4a9",
   "metadata": {},
   "outputs": [
    {
     "name": "stdin",
     "output_type": "stream",
     "text": [
      "enter a list of names: arshad abhishek mudhasir\n"
     ]
    },
    {
     "name": "stdout",
     "output_type": "stream",
     "text": [
      "The occurances of a in list is: 4\n"
     ]
    }
   ],
   "source": [
    "#3store list of first names.count occurances of 'a' within the list\n",
    "names=(input(\"enter a list of names:\").split())\n",
    "count_a=0\n",
    "for n in name:\n",
    "    count_a += n.count('a')\n",
    "print(\"The occurances of a in list is:\",count_a)"
   ]
  },
  {
   "cell_type": "code",
   "execution_count": 12,
   "id": "1a79c555-7e5b-422d-8a8a-ba28f710334f",
   "metadata": {},
   "outputs": [
    {
     "name": "stdin",
     "output_type": "stream",
     "text": [
      "enter the 1st number: 5\n",
      "enter the 2nd number: 3\n"
     ]
    },
    {
     "name": "stdout",
     "output_type": "stream",
     "text": [
      "the gcd is 1\n"
     ]
    }
   ],
   "source": [
    "#4find gcd of 2 numbers\n",
    "a=int(input(\"enter the 1st number:\"))\n",
    "b=int(input(\"enter the 2nd number:\"))\n",
    "while b:\n",
    "    a,b=b,a%b\n",
    "gcd=a\n",
    "print(\"the gcd is\",gcd)"
   ]
  },
  {
   "cell_type": "code",
   "execution_count": 5,
   "id": "48dc9632-da7f-4ac3-b3f3-c4ef9bcabec9",
   "metadata": {},
   "outputs": [
    {
     "name": "stdin",
     "output_type": "stream",
     "text": [
      "Enter the list of numbers 1 2 3 4 5\n"
     ]
    },
    {
     "name": "stdout",
     "output_type": "stream",
     "text": [
      "list after removing is: [1, 3, 5]\n"
     ]
    }
   ],
   "source": [
    "#5from a list integers create a list of removing even numbers\n",
    "n=list(map(int,input(\"Enter the list of numbers\").split()))\n",
    "od=[]\n",
    "for i in n:\n",
    "    if i%2!=0:\n",
    "        od.append(i)\n",
    "print(\"list after removing is:\",od)\n",
    "\n",
    "        \n"
   ]
  },
  {
   "cell_type": "code",
   "execution_count": 11,
   "id": "08ec327f-f0b9-4690-890e-d05fb43075cf",
   "metadata": {},
   "outputs": [
    {
     "name": "stdin",
     "output_type": "stream",
     "text": [
      "enter the number 5\n"
     ]
    },
    {
     "name": "stdout",
     "output_type": "stream",
     "text": [
      "The factorial of  5 is 120\n"
     ]
    }
   ],
   "source": [
    "#6factorial of a number \n",
    "num=int(input(\"enter the number\"))\n",
    "f=1\n",
    "for i in range(1,num+1):\n",
    "    f*=i\n",
    "print(\"The factorial of \",num,\"is\",f)"
   ]
  },
  {
   "cell_type": "code",
   "execution_count": 21,
   "id": "e58fa6d8-9647-4b74-887e-ee5c30f1016f",
   "metadata": {},
   "outputs": [
    {
     "name": "stdin",
     "output_type": "stream",
     "text": [
      "enter the number 5\n"
     ]
    },
    {
     "name": "stdout",
     "output_type": "stream",
     "text": [
      "the generated series is:\n",
      "0\n",
      "1\n",
      "1\n",
      "2\n",
      "3\n"
     ]
    }
   ],
   "source": [
    "#7generate fibonacci series\n",
    "n=int(input(\"enter the number\"))\n",
    "a,b=0,1\n",
    "print(\"the generated series is:\")\n",
    "for i in range(n):\n",
    "    print(a)\n",
    "    a,b=b,a+b\n",
    "\n",
    "\n"
   ]
  },
  {
   "cell_type": "code",
   "execution_count": 26,
   "id": "15865d39-709b-4afd-9051-395a0bd53d77",
   "metadata": {},
   "outputs": [
    {
     "name": "stdin",
     "output_type": "stream",
     "text": [
      "Enter the items in the list 1 2 3 4 5\n"
     ]
    },
    {
     "name": "stdout",
     "output_type": "stream",
     "text": [
      "sum of all items is 15\n"
     ]
    }
   ],
   "source": [
    "#8find the sum of all items in  a list\n",
    "n=list(map(int,input(\"Enter the items in the list\").split()))\n",
    "total=0\n",
    "for num in n:\n",
    "    total+=num\n",
    "print(\"sum of all items is\",total)     "
   ]
  },
  {
   "cell_type": "code",
   "execution_count": 49,
   "id": "acfbb4bc-53e3-4d5f-b370-a6d33b69298a",
   "metadata": {},
   "outputs": [
    {
     "name": "stdout",
     "output_type": "stream",
     "text": [
      "4‑digit even digits & perfect squares are: [4624, 6084, 6400, 8464]\n"
     ]
    }
   ],
   "source": [
    "#9generate a list of 4 digit even numbers with perfect squares\n",
    "import math\n",
    "\n",
    "num = []\n",
    "for x in range(1000, 10000):\n",
    "    root = math.isqrt(x)\n",
    "    if root * root == x: \n",
    "        digit = str(x)\n",
    "        if all(int(d) % 2 == 0 for d in digit):  \n",
    "            num.append(x)\n",
    "\n",
    "print(\"4‑digit even digits & perfect squares are:\", num)\n"
   ]
  },
  {
   "cell_type": "code",
   "execution_count": 3,
   "id": "ce508e55-a623-43c7-930a-9ceeb2ba4c67",
   "metadata": {},
   "outputs": [
    {
     "name": "stdin",
     "output_type": "stream",
     "text": [
      "enter a string: hello\n"
     ]
    },
    {
     "name": "stdout",
     "output_type": "stream",
     "text": [
      "frequency of h:1\n",
      "frequency of e:1\n",
      "frequency of l:2\n",
      "frequency of o:1\n"
     ]
    }
   ],
   "source": [
    "#10count the number of characters in a string\n",
    "string=input(\"enter a string:\")\n",
    "str_count={}\n",
    "for char in string:\n",
    "    if char in str_count:\n",
    "        str_count[char] +=1\n",
    "    else:\n",
    "        str_count[char] =1\n",
    "for key, value in str_count.items():\n",
    "    print(\"frequency of\",f\"{key}:{value}\")"
   ]
  },
  {
   "cell_type": "code",
   "execution_count": 2,
   "id": "079ad300-1dcc-4d93-b7b2-c52b1d0ce7ca",
   "metadata": {},
   "outputs": [
    {
     "name": "stdin",
     "output_type": "stream",
     "text": [
      "enter the number of steps 4\n"
     ]
    },
    {
     "name": "stdout",
     "output_type": "stream",
     "text": [
      "1 \n",
      "2 4 \n",
      "3 6 9 \n",
      "4 8 12 16 \n"
     ]
    }
   ],
   "source": [
    "#display  a pyramid with the step number accepted by user\n",
    "n=int(input(\"enter the number of steps\"))\n",
    "for i in range(1,n+1):\n",
    "    for j in range(1,i+1):\n",
    "        print(i*j,end=\" \")\n",
    "    print()        "
   ]
  },
  {
   "cell_type": "code",
   "execution_count": null,
   "id": "fb06d30e-4744-49cd-bbe0-0ca9970d5d09",
   "metadata": {},
   "outputs": [],
   "source": []
  }
 ],
 "metadata": {
  "kernelspec": {
   "display_name": "Python 3 (ipykernel)",
   "language": "python",
   "name": "python3"
  },
  "language_info": {
   "codemirror_mode": {
    "name": "ipython",
    "version": 3
   },
   "file_extension": ".py",
   "mimetype": "text/x-python",
   "name": "python",
   "nbconvert_exporter": "python",
   "pygments_lexer": "ipython3",
   "version": "3.11.7"
  }
 },
 "nbformat": 4,
 "nbformat_minor": 5
}
