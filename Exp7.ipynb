{
 "cells": [
  {
   "cell_type": "code",
   "execution_count": 2,
   "id": "227b5db7-4117-4709-b922-6c57d990bd8e",
   "metadata": {},
   "outputs": [
    {
     "name": "stdout",
     "output_type": "stream",
     "text": [
      "even numbers are: [0, 2, 4, 6, 8, 10, 12, 14, 16, 18, 20, 22, 24]\n",
      "sum of the even numbers: 156\n"
     ]
    }
   ],
   "source": [
    "#print even numbers 1-25 and their sum using range() only. \n",
    "even=range(0,25,2)\n",
    "print(\"even numbers are:\",list(even))\n",
    "print(\"sum of the even numbers:\",sum(even))\n"
   ]
  },
  {
   "cell_type": "code",
   "execution_count": 6,
   "id": "a063b88f-f4fe-4604-a09e-ac319090a549",
   "metadata": {},
   "outputs": [
    {
     "name": "stdin",
     "output_type": "stream",
     "text": [
      "Enter the range : 25\n"
     ]
    },
    {
     "name": "stdout",
     "output_type": "stream",
     "text": [
      "The Given Range Values: [0, 1, 2, 3, 4, 5, 6, 7, 8, 9, 10, 11, 12, 13, 14, 15, 16, 17, 18, 19, 20, 21, 22, 23, 24, 25]\n",
      "The Reversed list is: [25, 24, 23, 22, 21, 20, 19, 18, 17, 16, 15, 14, 13, 12, 11, 10, 9, 8, 7, 6, 5, 4, 3, 2, 1, 0]\n",
      "The sum of the reversed values is : 325\n"
     ]
    }
   ],
   "source": [
    "#print numbers in reverse order and their sum\n",
    "a=int(input(\"Enter the range :\"))\n",
    "b=range(0,a+1,1)\n",
    "c=list(b)\n",
    "print(\"The Given Range Values:\",c)\n",
    "d=range(a,-1,-1)\n",
    "print(\"The Reversed list is:\",list(d))\n",
    "print(\"The sum of the reversed values is :\",sum(c))"
   ]
  },
  {
   "cell_type": "code",
   "execution_count": null,
   "id": "47a8049a-3e65-41c2-ac61-e7bd778459af",
   "metadata": {},
   "outputs": [],
   "source": []
  }
 ],
 "metadata": {
  "kernelspec": {
   "display_name": "Python 3 (ipykernel)",
   "language": "python",
   "name": "python3"
  },
  "language_info": {
   "codemirror_mode": {
    "name": "ipython",
    "version": 3
   },
   "file_extension": ".py",
   "mimetype": "text/x-python",
   "name": "python",
   "nbconvert_exporter": "python",
   "pygments_lexer": "ipython3",
   "version": "3.11.7"
  }
 },
 "nbformat": 4,
 "nbformat_minor": 5
}
