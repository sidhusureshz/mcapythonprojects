{
 "cells": [
  {
   "cell_type": "code",
   "execution_count": 1,
   "id": "91d8e0b4-76c7-4861-8e89-eb50a3b3e2dc",
   "metadata": {},
   "outputs": [
    {
     "name": "stdin",
     "output_type": "stream",
     "text": [
      "enter the string  sidhu\n"
     ]
    },
    {
     "name": "stdout",
     "output_type": "stream",
     "text": [
      "swapped string is  uidhs\n"
     ]
    }
   ],
   "source": [
    "#to change a given string to a new string where the first and last chars have been exchanged\n",
    "s=input(\"enter the string \")\n",
    "text=s[-1]+s[1:-1]+s[0]\n",
    "print(\"swapped string is \",text)"
   ]
  },
  {
   "cell_type": "code",
   "execution_count": 2,
   "id": "cbf2d5de-750e-4417-8743-0fe184ee2fd5",
   "metadata": {},
   "outputs": [
    {
     "name": "stdin",
     "output_type": "stream",
     "text": [
      "enter the string  hello world\n"
     ]
    },
    {
     "name": "stdout",
     "output_type": "stream",
     "text": [
      "converted string is held\n"
     ]
    }
   ],
   "source": [
    "#to get a string made of first and last two chars from the given string\n",
    "s=input(\"enter the string \")\n",
    "text=s[:2]+s[-2:]\n",
    "print(\"converted string is\",text)"
   ]
  },
  {
   "cell_type": "code",
   "execution_count": 7,
   "id": "1580333a-32e9-42d3-a285-89c94bf8b943",
   "metadata": {},
   "outputs": [
    {
     "name": "stdin",
     "output_type": "stream",
     "text": [
      "enter the string1  hello \n",
      "enter the string2  world\n"
     ]
    },
    {
     "name": "stdout",
     "output_type": "stream",
     "text": [
      "the converted string is: wollo herld\n"
     ]
    }
   ],
   "source": [
    "#to get a ssingle string from given strings ,separated by a space and swap first two char of each string\n",
    "s1=input(\"enter the string1 \")\n",
    "s2=input(\"enter the string2 \")\n",
    "text1=s2[:2]+s1[2:]\n",
    "text2=s1[:2]+s2[2:]\n",
    "print(\"the converted string is:\",text1+\"\"+text2)\n"
   ]
  },
  {
   "cell_type": "code",
   "execution_count": 10,
   "id": "e1738ba7-59f9-4fdd-a20d-f56fa5decd9b",
   "metadata": {},
   "outputs": [
    {
     "name": "stdin",
     "output_type": "stream",
     "text": [
      "enter the string  onion\n"
     ]
    },
    {
     "name": "stdout",
     "output_type": "stream",
     "text": [
      "converted string is oni$n\n"
     ]
    }
   ],
   "source": [
    "#to get a string from a given string where all occurances of its first char have been change to $,except first char itself\n",
    "s=input(\"enter the string \")\n",
    "char=s[0]\n",
    "text=char+s[1:].replace(char,\"$\")\n",
    "print(\"converted string is\",text)\n"
   ]
  },
  {
   "cell_type": "code",
   "execution_count": null,
   "id": "4032c6ac-26c9-4539-b7b5-a8fec95b2278",
   "metadata": {},
   "outputs": [],
   "source": []
  }
 ],
 "metadata": {
  "kernelspec": {
   "display_name": "Python 3 (ipykernel)",
   "language": "python",
   "name": "python3"
  },
  "language_info": {
   "codemirror_mode": {
    "name": "ipython",
    "version": 3
   },
   "file_extension": ".py",
   "mimetype": "text/x-python",
   "name": "python",
   "nbconvert_exporter": "python",
   "pygments_lexer": "ipython3",
   "version": "3.11.7"
  }
 },
 "nbformat": 4,
 "nbformat_minor": 5
}
