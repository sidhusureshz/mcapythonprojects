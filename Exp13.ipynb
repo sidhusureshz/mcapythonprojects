{
 "cells": [
  {
   "cell_type": "code",
   "execution_count": 13,
   "id": "d9add9ff-22ee-4137-9ac3-9aad8b56dcb7",
   "metadata": {},
   "outputs": [
    {
     "name": "stdin",
     "output_type": "stream",
     "text": [
      "enter the words sidhu hellooo\n"
     ]
    },
    {
     "name": "stdout",
     "output_type": "stream",
     "text": [
      "the longest word is hellooo\n",
      "the length of longest word is: 7\n"
     ]
    }
   ],
   "source": [
    "#accept a list of words and return length of longest word\n",
    "def longest_words(word_list):\n",
    "    longest=max(word_list,key=len)\n",
    "    return longest,len(longest)\n",
    "word=input(\"enter the words\").split()\n",
    "word,length=longest_words(word)\n",
    "print(\"the longest word is\",word)\n",
    "print(\"the length of longest word is:\",length)"
   ]
  },
  {
   "cell_type": "code",
   "execution_count": 3,
   "id": "ab2ca168-c2bb-42b5-a655-1db49fb8ba28",
   "metadata": {},
   "outputs": [
    {
     "name": "stdin",
     "output_type": "stream",
     "text": [
      "Enter the number:  5\n"
     ]
    },
    {
     "name": "stdout",
     "output_type": "stream",
     "text": [
      "*\n",
      "**\n",
      "***\n",
      "****\n",
      "*****\n",
      "****\n",
      "***\n",
      "**\n",
      "*\n"
     ]
    }
   ],
   "source": [
    "#construct a pattern using nexted loop\n",
    "def print_pattern(n):\n",
    "    for i in range(1, n + 1):\n",
    "        for j in range(i):\n",
    "            print(\"*\", end=\"\")\n",
    "        print()\n",
    "    for i in range(n - 1, 0, -1):\n",
    "        for j in range(i):\n",
    "            print(\"*\", end=\"\")\n",
    "        print()\n",
    "n = int(input(\"Enter the number: \"))\n",
    "print_pattern(n)\n"
   ]
  },
  {
   "cell_type": "code",
   "execution_count": 11,
   "id": "b46522d7-95fe-4d33-9dd9-d038a7b522da",
   "metadata": {},
   "outputs": [
    {
     "name": "stdin",
     "output_type": "stream",
     "text": [
      "enter the number: 6\n"
     ]
    },
    {
     "name": "stdout",
     "output_type": "stream",
     "text": [
      "factors of 6 are: [1, 2, 3, 6]\n"
     ]
    }
   ],
   "source": [
    "#generate all factors of a number\n",
    "def factor(n):\n",
    "    result=[]\n",
    "    for i in range(1,n+1):\n",
    "        if n%i==0:\n",
    "            result.append(i)\n",
    "    return result    \n",
    "num=int(input(\"enter the number:\"))\n",
    "print(\"factors of\",num,\"are:\",factor(num))"
   ]
  },
  {
   "cell_type": "code",
   "execution_count": 18,
   "id": "89bab516-0d4e-4f3a-b6d3-ce29710ccdc9",
   "metadata": {},
   "outputs": [
    {
     "name": "stdin",
     "output_type": "stream",
     "text": [
      "Enter the side length of the square:  4\n",
      "Enter the length of the rectangle:  4\n",
      "Enter the width of the rectangle:  2\n",
      "Enter the base length of the triangle:  3\n",
      "Enter the height of the triangle:  5\n"
     ]
    },
    {
     "name": "stdout",
     "output_type": "stream",
     "text": [
      "Area of square with side 4.0 : 16.0\n",
      "Area of rectangle with length 4.0 and width 2.0 : 8.0\n",
      "Area of triangle with base 3.0 and height 5.0 : 7.5\n"
     ]
    }
   ],
   "source": [
    "#lambda functions to find area of square,rectangle and triangle\n",
    "area_square = lambda s: s * s\n",
    "area_rectangle = lambda l, w: l * w\n",
    "area_triangle = lambda b, h: 0.5 * b * h\n",
    "\n",
    "s = float(input(\"Enter the side length of the square: \"))\n",
    "l = float(input(\"Enter the length of the rectangle: \"))\n",
    "w= float(input(\"Enter the width of the rectangle: \"))\n",
    "b = float(input(\"Enter the base length of the triangle: \"))\n",
    "h = float(input(\"Enter the height of the triangle: \"))\n",
    "\n",
    "print(\"Area of square with side\", s, \":\", area_square(s))\n",
    "print(\"Area of rectangle with length\", l, \"and width\", w, \":\", area_rectangle(l, w))\n",
    "print(\"Area of triangle with base\", b, \"and height\", h, \":\", area_triangle(b, h))\n"
   ]
  },
  {
   "cell_type": "code",
   "execution_count": null,
   "id": "426b570d-89f3-46de-8c16-a0bcc11d9b38",
   "metadata": {},
   "outputs": [],
   "source": []
  }
 ],
 "metadata": {
  "kernelspec": {
   "display_name": "Python 3 (ipykernel)",
   "language": "python",
   "name": "python3"
  },
  "language_info": {
   "codemirror_mode": {
    "name": "ipython",
    "version": 3
   },
   "file_extension": ".py",
   "mimetype": "text/x-python",
   "name": "python",
   "nbconvert_exporter": "python",
   "pygments_lexer": "ipython3",
   "version": "3.11.7"
  }
 },
 "nbformat": 4,
 "nbformat_minor": 5
}
