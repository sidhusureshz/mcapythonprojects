{
 "cells": [
  {
   "cell_type": "code",
   "execution_count": 4,
   "id": "fbbb82f6-0880-4949-9285-727f5c1fef4a",
   "metadata": {},
   "outputs": [
    {
     "name": "stdin",
     "output_type": "stream",
     "text": [
      "Enter an integer number: 3\n"
     ]
    },
    {
     "name": "stdout",
     "output_type": "stream",
     "text": [
      "3+33+333=369\n"
     ]
    }
   ],
   "source": [
    "#[1]program that accepts integer(n) and computes the values of n+nn+nnn.\n",
    "n=int(input(\"Enter an integer number:\"))\n",
    "nn=n*10+n\n",
    "nnn=n*100+nn\n",
    "result=n+nn+nnn\n",
    "print(f\"{n}+{nn}+{nnn}={result}\")"
   ]
  },
  {
   "cell_type": "markdown",
   "id": "4009b8dc-1b50-4af5-911b-4e7b81a187c8",
   "metadata": {},
   "source": [
    "# [2]program to input the radius of circle and compute the area\n",
    "import math\n",
    "r=float(input(\"Enter the radius\"))\n",
    "area=math.pi*r*r\n",
    "print(f\"area of circle is = {area:.2f}\")"
   ]
  },
  {
   "cell_type": "code",
   "execution_count": 21,
   "id": "4897a888-32c9-4216-8da9-6bdfeb251895",
   "metadata": {},
   "outputs": [
    {
     "name": "stdin",
     "output_type": "stream",
     "text": [
      "Enter the temperature in celsuis 37\n"
     ]
    },
    {
     "name": "stdout",
     "output_type": "stream",
     "text": [
      "the temperature in fahrenheit is : 98.6\n"
     ]
    }
   ],
   "source": [
    "#[3]program to convert celsius to fahrenheit(T(°F)=T(°C)*9/5+32)\n",
    "celsuis=float(input(\"Enter the temperature in celsuis\"))\n",
    "fahrenheit=(celsuis*9/5)+32\n",
    "print(\"the temperature in fahrenheit is :\",fahrenheit)"
   ]
  },
  {
   "cell_type": "code",
   "execution_count": 5,
   "id": "dbc55a53-198b-42d1-b182-891ab3755443",
   "metadata": {},
   "outputs": [
    {
     "name": "stdin",
     "output_type": "stream",
     "text": [
      "Enter kilometers in distance 3\n"
     ]
    },
    {
     "name": "stdout",
     "output_type": "stream",
     "text": [
      "After conversion Miles in distance is =1.86\n"
     ]
    }
   ],
   "source": [
    "#[4]program to convert kilometers to miles(1km=0.62137 miles)\n",
    "km=int(input(\"Enter kilometers in distance\"))\n",
    "conversion_factor=0.62137\n",
    "miles=km*conversion_factor\n",
    "print(f\"After conversion Miles in distance is ={miles:.2f}\")\n"
   ]
  },
  {
   "cell_type": "code",
   "execution_count": 20,
   "id": "36db9a24-7441-4de5-a1d0-75f111090786",
   "metadata": {},
   "outputs": [
    {
     "name": "stdin",
     "output_type": "stream",
     "text": [
      "Enter the first number 34\n",
      "Enter the second number 5454\n",
      "Enter the third number 343443\n"
     ]
    },
    {
     "name": "stdout",
     "output_type": "stream",
     "text": [
      "Biggest Number is 343443\n"
     ]
    }
   ],
   "source": [
    "#[5]program to find the biggest of three (use max())\n",
    "a=int(input(\"Enter the first number\"))\n",
    "b=int(input(\"Enter the second number\"))\n",
    "c=int(input(\"Enter the third number\"))\n",
    "big=max(a,b,c)\n",
    "print(\"Biggest Number is\",big)"
   ]
  },
  {
   "cell_type": "code",
   "execution_count": null,
   "id": "50c6c9d6-927d-4e10-bbe8-f99d797d142b",
   "metadata": {},
   "outputs": [],
   "source": []
  }
 ],
 "metadata": {
  "kernelspec": {
   "display_name": "Python 3 (ipykernel)",
   "language": "python",
   "name": "python3"
  },
  "language_info": {
   "codemirror_mode": {
    "name": "ipython",
    "version": 3
   },
   "file_extension": ".py",
   "mimetype": "text/x-python",
   "name": "python",
   "nbconvert_exporter": "python",
   "pygments_lexer": "ipython3",
   "version": "3.11.7"
  }
 },
 "nbformat": 4,
 "nbformat_minor": 5
}
