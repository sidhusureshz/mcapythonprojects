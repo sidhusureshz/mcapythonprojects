{
 "cells": [
  {
   "cell_type": "code",
   "execution_count": 1,
   "id": "fd845044-8d0f-4147-870c-798865a25850",
   "metadata": {},
   "outputs": [],
   "source": [
    "def area(l,h,b):\n",
    "    return 2*((l*b) +(l*h)+(b*h))\n",
    "\n",
    "def perimeter(l,h,b):\n",
    "    return 4*(l+h+b)"
   ]
  },
  {
   "cell_type": "code",
   "execution_count": null,
   "id": "9eca3bee-5f8a-4081-a3c0-ee3ea4485f64",
   "metadata": {},
   "outputs": [],
   "source": []
  }
 ],
 "metadata": {
  "kernelspec": {
   "display_name": "Python 3 (ipykernel)",
   "language": "python",
   "name": "python3"
  },
  "language_info": {
   "codemirror_mode": {
    "name": "ipython",
    "version": 3
   },
   "file_extension": ".py",
   "mimetype": "text/x-python",
   "name": "python",
   "nbconvert_exporter": "python",
   "pygments_lexer": "ipython3",
   "version": "3.11.7"
  }
 },
 "nbformat": 4,
 "nbformat_minor": 5
}
