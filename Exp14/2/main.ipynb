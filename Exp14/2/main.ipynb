{
 "cells": [
  {
   "cell_type": "code",
   "execution_count": 1,
   "id": "b9abc9c1-1747-43dc-9b5f-de087a7172ef",
   "metadata": {},
   "outputs": [
    {
     "name": "stdout",
     "output_type": "stream",
     "text": [
      " 1.Rectangle\n",
      " 2.Circle\n",
      " 3.Cuboid\n",
      " 4.Shpere\n",
      " 5.Exit\n",
      "\n"
     ]
    },
    {
     "name": "stdin",
     "output_type": "stream",
     "text": [
      "Enter Your Choice: 1\n",
      "enter the length of rectangle: 5\n",
      "enter the breadth of rectangle: 2\n"
     ]
    },
    {
     "ename": "NameError",
     "evalue": "name 'area' is not defined",
     "output_type": "error",
     "traceback": [
      "\u001b[0;31m---------------------------------------------------------------------------\u001b[0m",
      "\u001b[0;31mNameError\u001b[0m                                 Traceback (most recent call last)",
      "Cell \u001b[0;32mIn[1], line 11\u001b[0m\n\u001b[1;32m      9\u001b[0m     l\u001b[38;5;241m=\u001b[39m\u001b[38;5;28mint\u001b[39m(\u001b[38;5;28minput\u001b[39m(\u001b[38;5;124m\"\u001b[39m\u001b[38;5;124menter the length of rectangle:\u001b[39m\u001b[38;5;124m\"\u001b[39m))\n\u001b[1;32m     10\u001b[0m     b\u001b[38;5;241m=\u001b[39m\u001b[38;5;28mint\u001b[39m(\u001b[38;5;28minput\u001b[39m(\u001b[38;5;124m\"\u001b[39m\u001b[38;5;124menter the breadth of rectangle:\u001b[39m\u001b[38;5;124m\"\u001b[39m))\n\u001b[0;32m---> 11\u001b[0m     \u001b[38;5;28mprint\u001b[39m(\u001b[38;5;124m\"\u001b[39m\u001b[38;5;124mThe area of rectangle is :\u001b[39m\u001b[38;5;124m\"\u001b[39m,area(l,b))\n\u001b[1;32m     12\u001b[0m     \u001b[38;5;28mprint\u001b[39m(\u001b[38;5;124m\"\u001b[39m\u001b[38;5;124mThe perimeter of rectangle is:\u001b[39m\u001b[38;5;124m\"\u001b[39m,perimeter(l,b))\n\u001b[1;32m     13\u001b[0m \u001b[38;5;28;01melif\u001b[39;00m(choice\u001b[38;5;241m==\u001b[39m\u001b[38;5;241m2\u001b[39m):\n",
      "\u001b[0;31mNameError\u001b[0m: name 'area' is not defined"
     ]
    }
   ],
   "source": [
    "from graphics import rectangle\n",
    "from graphics import circle\n",
    "from graphics.graphics3d import cuboid\n",
    "from graphics.graphics3d import sphere\n",
    "print(\" 1.Rectangle\\n 2.Circle\\n 3.Cuboid\\n 4.Shpere\\n 5.Exit\\n\")\n",
    "choice=int(input(\"Enter Your Choice:\"))\n",
    "while True:\n",
    "    if(choice==1):\n",
    "        l=int(input(\"enter the length of rectangle:\"))\n",
    "        b=int(input(\"enter the breadth of rectangle:\"))\n",
    "        print(\"The area of rectangle is :\",area(l,b))\n",
    "        print(\"The perimeter of rectangle is:\",perimeter(l,b))\n",
    "    elif(choice==2):\n",
    "        r=float(input(\"enter the radius of circle\")) \n",
    "        print(\"The area of circle:\",round(circle.area(r),2))\n",
    "        print(\"The perimeter of circle:\",round(circle.perimeter(r),2))\n",
    "\n",
    "    elif(choice==3):\n",
    "        l=float(input(\"enter the length of cuboid:\"))\n",
    "        b=float(input(\"enter the breadth of cuboid:\"))\n",
    "        h=float(input(\"enter the height of cuboid:\"))\n",
    "        print(\"The area of circle:\",round(cuboid.area(r),2))\n",
    "        print(\"The area of circle:\",round(cuboid.perimeter(r),2))\n",
    "\n",
    "    elif(choice==4):\n",
    "        r=float(input(\"enter the radius of sphere\"))\n",
    "        print(\"The area of sphere:\",round(sphere.area(r),2))\n",
    "        print(\"The perimeter of sphere:\",round(sphere.perimeter(r),2))\n",
    "\n",
    "    elif(choice==5):\n",
    "        print(\"exiting\")\n",
    "        break;\n",
    "    \n",
    "\n",
    "        "
   ]
  },
  {
   "cell_type": "code",
   "execution_count": null,
   "id": "41161465-63d2-428a-90dc-18eddea438a7",
   "metadata": {},
   "outputs": [],
   "source": []
  },
  {
   "cell_type": "code",
   "execution_count": null,
   "id": "bdb79465-3b81-4df4-9c94-db75f08bc357",
   "metadata": {},
   "outputs": [],
   "source": []
  }
 ],
 "metadata": {
  "kernelspec": {
   "display_name": "Python 3 (ipykernel)",
   "language": "python",
   "name": "python3"
  },
  "language_info": {
   "codemirror_mode": {
    "name": "ipython",
    "version": 3
   },
   "file_extension": ".py",
   "mimetype": "text/x-python",
   "name": "python",
   "nbconvert_exporter": "python",
   "pygments_lexer": "ipython3",
   "version": "3.11.7"
  }
 },
 "nbformat": 4,
 "nbformat_minor": 5
}
