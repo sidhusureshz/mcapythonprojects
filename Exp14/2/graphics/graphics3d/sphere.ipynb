{
 "cells": [
  {
   "cell_type": "code",
   "execution_count": 1,
   "id": "ad85b539-e0e3-48f9-b06e-d15be63bc2d9",
   "metadata": {},
   "outputs": [],
   "source": [
    "import math"
   ]
  },
  {
   "cell_type": "code",
   "execution_count": 2,
   "id": "0938114d-303c-40a5-be5b-a3bca61c6ebb",
   "metadata": {},
   "outputs": [],
   "source": [
    "def area(r):\n",
    "    return 4*math.pi*r*r\n",
    "\n",
    "def perimeter(r):\n",
    "    return 2*math.pi*r"
   ]
  },
  {
   "cell_type": "code",
   "execution_count": null,
   "id": "90e519f4-b464-4f86-84e6-3ba46b4c18e7",
   "metadata": {},
   "outputs": [],
   "source": []
  }
 ],
 "metadata": {
  "kernelspec": {
   "display_name": "Python 3 (ipykernel)",
   "language": "python",
   "name": "python3"
  },
  "language_info": {
   "codemirror_mode": {
    "name": "ipython",
    "version": 3
   },
   "file_extension": ".py",
   "mimetype": "text/x-python",
   "name": "python",
   "nbconvert_exporter": "python",
   "pygments_lexer": "ipython3",
   "version": "3.11.7"
  }
 },
 "nbformat": 4,
 "nbformat_minor": 5
}
