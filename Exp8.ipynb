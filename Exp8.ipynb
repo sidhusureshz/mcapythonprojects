{
 "cells": [
  {
   "cell_type": "code",
   "execution_count": 1,
   "id": "227b5db7-4117-4709-b922-6c57d990bd8e",
   "metadata": {},
   "outputs": [
    {
     "name": "stdin",
     "output_type": "stream",
     "text": [
      "Enter colors for set 1 red,yellow,blue\n",
      "Enter colors for set 1 blue,orange,yellow\n"
     ]
    },
    {
     "name": "stdout",
     "output_type": "stream",
     "text": [
      "set 1: {'red', 'yellow', 'blue'}\n",
      "set 2: {'yellow', 'blue', 'orange'}\n",
      "\n",
      " Colors in set 1 not contained in set  2: {'red'}\n"
     ]
    }
   ],
   "source": [
    "#print colors in set 1 which is not in set 2\n",
    "cs1=set(input(\"Enter colors for set 1\").split(','))\n",
    "cs2=set(input(\"Enter colors for set 1\").split(','))\n",
    "cs3=cs1-cs2\n",
    "print(\"set 1:\",cs1)\n",
    "print(\"set 2:\",cs2)\n",
    "print(\"\\n Colors in set 1 not contained in set  2:\",cs3)"
   ]
  },
  {
   "cell_type": "code",
   "execution_count": 3,
   "id": "621a0a22-4438-4d10-8bf1-9b60bbd3f96e",
   "metadata": {},
   "outputs": [
    {
     "name": "stdin",
     "output_type": "stream",
     "text": [
      "Enter colors for set 1 yellow,blue,red\n",
      "Enter colors for set 2 black,white,purple\n"
     ]
    },
    {
     "name": "stdout",
     "output_type": "stream",
     "text": [
      "set 1: {'yellow', 'red', 'blue'}\n",
      "set 2: {'white', 'purple', 'black'}\n",
      "\n",
      " All Colors from set 1 and set 2 {'red', 'purple', 'blue', 'black', 'yellow', 'white'}\n"
     ]
    }
   ],
   "source": [
    "#print all colors from set 1 and set 2\n",
    "s1=set(input(\"Enter colors for set 1\").split(','))\n",
    "s2=set(input(\"Enter colors for set 2\").split(','))\n",
    "s3=s1|s2\n",
    "print(\"set 1:\",s1)\n",
    "print(\"set 2:\",s2)\n",
    "print(\"\\n All Colors from set 1 and set 2\",s3)"
   ]
  },
  {
   "cell_type": "code",
   "execution_count": null,
   "id": "e2c89dc8-14e2-4d23-bd5d-b95d33daea69",
   "metadata": {},
   "outputs": [],
   "source": []
  }
 ],
 "metadata": {
  "kernelspec": {
   "display_name": "Python 3 (ipykernel)",
   "language": "python",
   "name": "python3"
  },
  "language_info": {
   "codemirror_mode": {
    "name": "ipython",
    "version": 3
   },
   "file_extension": ".py",
   "mimetype": "text/x-python",
   "name": "python",
   "nbconvert_exporter": "python",
   "pygments_lexer": "ipython3",
   "version": "3.11.7"
  }
 },
 "nbformat": 4,
 "nbformat_minor": 5
}
