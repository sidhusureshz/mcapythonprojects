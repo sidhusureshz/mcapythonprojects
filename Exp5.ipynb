{
 "cells": [
  {
   "cell_type": "code",
   "execution_count": 2,
   "id": "597ce78a-4459-4a7c-8491-c9bcbfef3c22",
   "metadata": {},
   "outputs": [
    {
     "name": "stdin",
     "output_type": "stream",
     "text": [
      "enter numbers 1 2 3\n"
     ]
    },
    {
     "name": "stdout",
     "output_type": "stream",
     "text": [
      "list: [1, 2, 3]\n",
      "sum: 6\n"
     ]
    }
   ],
   "source": [
    "#accepts a sequence of comma separated numbers from user and generate sum of all items in that list\n",
    "n=input(\"enter numbers\")\n",
    "n3=list(map(int,n.split()))\n",
    "print(\"list:\",n3)\n",
    "total=sum(n3)\n",
    "print(\"sum:\",total)"
   ]
  },
  {
   "cell_type": "code",
   "execution_count": 5,
   "id": "7079d579-a656-4bb4-aad3-2014b96ed2a8",
   "metadata": {},
   "outputs": [
    {
     "name": "stdin",
     "output_type": "stream",
     "text": [
      "enter colors: yellow,red,blue\n"
     ]
    },
    {
     "name": "stdout",
     "output_type": "stream",
     "text": [
      "list of color ['yellow', 'red', 'blue']\n",
      "First color yellow\n",
      "Second color blue\n"
     ]
    }
   ],
   "source": [
    "#list of colors from comma separated color names entered by user .display first and last colors\n",
    "color=input(\"enter colors:\")\n",
    "clr=color.split(\",\")\n",
    "print(\"list of color\",clr)\n",
    "print(\"First color\",clr[0])\n",
    "print(\"Second color\",clr[-1])"
   ]
  },
  {
   "cell_type": "code",
   "execution_count": 9,
   "id": "a1234b99-5eec-4d18-b1b9-b46a49042b88",
   "metadata": {},
   "outputs": [
    {
     "name": "stdin",
     "output_type": "stream",
     "text": [
      "enter a filename: sidhu.py\n"
     ]
    },
    {
     "name": "stdout",
     "output_type": "stream",
     "text": [
      "extention is py\n"
     ]
    }
   ],
   "source": [
    "#accept filename from user and print extention of that\n",
    "filename=input(\"enter a filename:\")\n",
    "extention=filename.split(\".\")[-1]\n",
    "print(\"extention is\",extention)"
   ]
  }
 ],
 "metadata": {
  "kernelspec": {
   "display_name": "Python 3 (ipykernel)",
   "language": "python",
   "name": "python3"
  },
  "language_info": {
   "codemirror_mode": {
    "name": "ipython",
    "version": 3
   },
   "file_extension": ".py",
   "mimetype": "text/x-python",
   "name": "python",
   "nbconvert_exporter": "python",
   "pygments_lexer": "ipython3",
   "version": "3.11.7"
  }
 },
 "nbformat": 4,
 "nbformat_minor": 5
}
