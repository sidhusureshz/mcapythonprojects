{
 "cells": [
  {
   "cell_type": "code",
   "execution_count": 7,
   "id": "c8601a2e-17c7-48d5-ba01-9f4c0ad04724",
   "metadata": {},
   "outputs": [],
   "source": [
    "import math\n"
   ]
  },
  {
   "cell_type": "code",
   "execution_count": 8,
   "id": "ff04f314-6c8d-451d-aaea-048fd5fc8fee",
   "metadata": {},
   "outputs": [],
   "source": [
    "def area(r):\n",
    "    return math.pi*r*r\n",
    "\n",
    "def perimeter(r):\n",
    "    return 2*math.pi*r"
   ]
  },
  {
   "cell_type": "code",
   "execution_count": null,
   "id": "4892fab4-fc89-4cd1-a2d1-225c00e2e1f6",
   "metadata": {},
   "outputs": [],
   "source": []
  },
  {
   "cell_type": "code",
   "execution_count": null,
   "id": "82d7809b-5533-47ec-a48a-cbc52544eff0",
   "metadata": {},
   "outputs": [],
   "source": []
  }
 ],
 "metadata": {
  "kernelspec": {
   "display_name": "Python 3 (ipykernel)",
   "language": "python",
   "name": "python3"
  },
  "language_info": {
   "codemirror_mode": {
    "name": "ipython",
    "version": 3
   },
   "file_extension": ".py",
   "mimetype": "text/x-python",
   "name": "python",
   "nbconvert_exporter": "python",
   "pygments_lexer": "ipython3",
   "version": "3.11.7"
  }
 },
 "nbformat": 4,
 "nbformat_minor": 5
}
