{
 "cells": [
  {
   "cell_type": "code",
   "execution_count": null,
   "id": "b9abc9c1-1747-43dc-9b5f-de087a7172ef",
   "metadata": {},
   "outputs": [
    {
     "name": "stdout",
     "output_type": "stream",
     "text": [
      " 1.Rectangle\n",
      " 2.Circle\n",
      " 3.Cuboid\n",
      " 4.Shpere\n",
      " 5.Exit\n",
      "\n"
     ]
    }
   ],
   "source": [
    "from graphics import rectangle\n",
    "from graphics import circle\n",
    "from graphics.graphics3d import cuboid\n",
    "from graphics.graphics3d import sphere\n",
    "print(\" 1.Rectangle\\n 2.Circle\\n 3.Cuboid\\n 4.Shpere\\n 5.Exit\\n\")\n",
    "choice=int(input(\"Enter Your Choice:\"))\n",
    "while(1):\n",
    "    if(choice==1):\n",
    "        l=int(input(\"enter the length of rectangle:\"))\n",
    "        b=int(input(\"enter the breadth of rectangle:\"))\n",
    "        print(\"The area of rectangle is :\",rectangle.area(l,b))\n",
    "        print(\"The perimeter of rectangle is:\",rectangle.perimeter(l,b))\n",
    "        break;\n",
    "    elif(choice==2):\n",
    "        r=float(input(\"enter the radius of circle\")) \n",
    "        print(\"The area of circle:\",round(circle.area(r),2))\n",
    "        print(\"The perimeter of circle:\",round(circle.perimeter(r),2))\n",
    "        break;\n",
    "\n",
    "    elif(choice==3):\n",
    "        l=float(input(\"enter the length of cuboid:\"))\n",
    "        b=float(input(\"enter the breadth of cuboid:\"))\n",
    "        h=float(input(\"enter the height of cuboid:\"))\n",
    "        print(\"The area of circle:\",round(cuboid.area(l,b,h),2))\n",
    "        print(\"The area of circle:\",round(cuboid.perimeter(l,b,h),2))\n",
    "        break;\n",
    "\n",
    "    elif(choice==4):\n",
    "        r=float(input(\"enter the radius of sphere\"))\n",
    "        print(\"The area of sphere:\",round(sphere.area(r),2))\n",
    "        print(\"The perimeter of sphere:\",round(sphere.perimeter(r),2))\n",
    "        break;\n",
    "\n",
    "    elif(choice==5):\n",
    "        print(\"exiting\")\n",
    "        break;\n",
    "    \n",
    "\n",
    "        "
   ]
  },
  {
   "cell_type": "code",
   "execution_count": null,
   "id": "41161465-63d2-428a-90dc-18eddea438a7",
   "metadata": {},
   "outputs": [],
   "source": []
  },
  {
   "cell_type": "code",
   "execution_count": null,
   "id": "bdb79465-3b81-4df4-9c94-db75f08bc357",
   "metadata": {},
   "outputs": [],
   "source": []
  }
 ],
 "metadata": {
  "kernelspec": {
   "display_name": "Python 3 (ipykernel)",
   "language": "python",
   "name": "python3"
  },
  "language_info": {
   "codemirror_mode": {
    "name": "ipython",
    "version": 3
   },
   "file_extension": ".py",
   "mimetype": "text/x-python",
   "name": "python",
   "nbconvert_exporter": "python",
   "pygments_lexer": "ipython3",
   "version": "3.11.7"
  }
 },
 "nbformat": 4,
 "nbformat_minor": 5
}
