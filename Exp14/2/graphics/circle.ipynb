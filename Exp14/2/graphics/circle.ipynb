{
 "cells": [
  {
   "cell_type": "code",
   "execution_count": null,
   "id": "aa7c4cca-0094-4e42-acfd-a0d8c666271e",
   "metadata": {},
   "outputs": [],
   "source": [
    "import math"
   ]
  },
  {
   "cell_type": "code",
   "execution_count": null,
   "id": "20698bbe-fd32-49cd-9230-7d7bffc321e5",
   "metadata": {},
   "outputs": [],
   "source": [
    "def area(r):\n",
    "    return math.pi*r*r\n",
    "\n",
    "def perimeter(r):\n",
    "    return 2*math.pi*r"
   ]
  }
 ],
 "metadata": {
  "kernelspec": {
   "display_name": "Python 3 (ipykernel)",
   "language": "python",
   "name": "python3"
  },
  "language_info": {
   "codemirror_mode": {
    "name": "ipython",
    "version": 3
   },
   "file_extension": ".py",
   "mimetype": "text/x-python",
   "name": "python",
   "nbconvert_exporter": "python",
   "pygments_lexer": "ipython3",
   "version": "3.11.7"
  }
 },
 "nbformat": 4,
 "nbformat_minor": 5
}
