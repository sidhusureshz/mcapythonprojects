{
 "cells": [
  {
   "cell_type": "code",
   "execution_count": 4,
   "id": "72a9f2cb-19da-438e-9697-d941dea25a66",
   "metadata": {},
   "outputs": [
    {
     "name": "stdin",
     "output_type": "stream",
     "text": [
      "Enter the publisher name:  sidhu\n",
      "Enter the book title:  python\n",
      "Enter the author name:  sidhu\n",
      "Enter the book price:  3838\n",
      "Enter the number of pages:  1828\n"
     ]
    },
    {
     "name": "stdout",
     "output_type": "stream",
     "text": [
      "The Publisher Name: sidhu\n",
      "The Book Title: python\n",
      "The Book Author: python\n",
      "The Book Price: 3838.0\n",
      "No Of Pages In The Book: 1828\n"
     ]
    }
   ],
   "source": [
    "#Create a class Publisher (name). Derive class Book from Publisher with attributes title and author. Derive class Python from Book with attributes price and no_of_pages. Write a program that displays information about a Python book. Use base class constructor invocation and method overriding.\n",
    "class Publisher:\n",
    "    def __init__(self,name):\n",
    "        self.name=name\n",
    "    def display(self):\n",
    "        print(\"The Publisher Name:\",self.name)\n",
    "\n",
    "class Book(Publisher):\n",
    "    def __init__(self,name,title,author):\n",
    "        super().__init__(name)\n",
    "        self.title=title\n",
    "        self.author=title\n",
    "    def display(self):\n",
    "        super().display() \n",
    "        print(\"The Book Title:\",self.title)\n",
    "        print(\"The Book Author:\",self.author)\n",
    "\n",
    "class python(Book):\n",
    "    def __init__(self,name,title,author,price,No_of_Pages):\n",
    "        super().__init__(name,title,author)\n",
    "        self.price=price\n",
    "        self.No_of_Pages=No_of_Pages\n",
    "    def display(self):\n",
    "        super().display() \n",
    "        print(\"The Book Price:\",self.price)\n",
    "        print(\"No Of Pages In The Book:\",self.No_of_Pages)\n",
    "        \n",
    "name = input(\"Enter the publisher name: \")\n",
    "title = input(\"Enter the book title: \")\n",
    "author = input(\"Enter the author name: \")\n",
    "price = float(input(\"Enter the book price: \"))\n",
    "no_pages = int(input(\"Enter the number of pages: \"))\n",
    "\n",
    "p1 = python(name, title, author, price, no_pages)\n",
    "p1.display()\n",
    "        \n",
    "        \n",
    "        \n",
    "    \n",
    "\n"
   ]
  },
  {
   "cell_type": "code",
   "execution_count": null,
   "id": "f53becf3-f6a6-4ca6-b45f-cca7abccc566",
   "metadata": {},
   "outputs": [],
   "source": []
  }
 ],
 "metadata": {
  "kernelspec": {
   "display_name": "Python 3 (ipykernel)",
   "language": "python",
   "name": "python3"
  },
  "language_info": {
   "codemirror_mode": {
    "name": "ipython",
    "version": 3
   },
   "file_extension": ".py",
   "mimetype": "text/x-python",
   "name": "python",
   "nbconvert_exporter": "python",
   "pygments_lexer": "ipython3",
   "version": "3.11.7"
  }
 },
 "nbformat": 4,
 "nbformat_minor": 5
}
