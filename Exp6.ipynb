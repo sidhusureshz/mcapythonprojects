{
 "cells": [
  {
   "cell_type": "code",
   "execution_count": 4,
   "id": "ab8a210f-dc99-41fc-aa41-0ae9b870fa38",
   "metadata": {},
   "outputs": [
    {
     "name": "stdin",
     "output_type": "stream",
     "text": [
      "Enter the numbers :  1 2 3 4 5 6\n"
     ]
    },
    {
     "name": "stdout",
     "output_type": "stream",
     "text": [
      "Tuple separated by comma : (1, 2, 3, 4, 5, 6)\n",
      "The average of all numbers is: 3.5\n"
     ]
    }
   ],
   "source": [
    "#comma separated numbers from user and average of all numbers\n",
    "my_tuple = tuple(map(int, input(\"Enter the numbers : \").split()))\n",
    "average = sum(my_tuple)/len(my_tuple)\n",
    "print(\"Tuple separated by comma :\", my_tuple)\n",
    "print(\"The average of all numbers is:\", average)\n"
   ]
  },
  {
   "cell_type": "code",
   "execution_count": 1,
   "id": "b629350e-f2c9-4ce4-bb1e-fab095a14983",
   "metadata": {},
   "outputs": [
    {
     "name": "stdin",
     "output_type": "stream",
     "text": [
      "enter the numbers 1 2 3 4 5 6 7 8 9\n"
     ]
    },
    {
     "name": "stdout",
     "output_type": "stream",
     "text": [
      "third element is  3\n",
      "third last element is 7\n"
     ]
    }
   ],
   "source": [
    "#to get 3rd element and 3rd element from last\n",
    "my_tuple=tuple(map(int,input(\"enter the numbers\").split()))\n",
    "third=my_tuple[2]\n",
    "third_last=my_tuple[-3]\n",
    "print(\"third element is \",third)\n",
    "print(\"third last element is\",third_last)"
   ]
  },
  {
   "cell_type": "code",
   "execution_count": null,
   "id": "8d0fbe3d-7d86-4c59-b827-c1e6f8c294e6",
   "metadata": {},
   "outputs": [],
   "source": []
  }
 ],
 "metadata": {
  "kernelspec": {
   "display_name": "Python 3 (ipykernel)",
   "language": "python",
   "name": "python3"
  },
  "language_info": {
   "codemirror_mode": {
    "name": "ipython",
    "version": 3
   },
   "file_extension": ".py",
   "mimetype": "text/x-python",
   "name": "python",
   "nbconvert_exporter": "python",
   "pygments_lexer": "ipython3",
   "version": "3.11.7"
  }
 },
 "nbformat": 4,
 "nbformat_minor": 5
}
