{
 "cells": [
  {
   "cell_type": "code",
   "execution_count": 1,
   "id": "60b41f43-0431-4e93-9b49-ce1ab5cc10ba",
   "metadata": {},
   "outputs": [
    {
     "name": "stdin",
     "output_type": "stream",
     "text": [
      "Enter the length of rectangle1:  5\n",
      "Enter the breadth of rectangle1:  3\n",
      "Enter the length of rectangle2:  7\n",
      "Enter the breadth of rectangle2:  3\n"
     ]
    },
    {
     "name": "stdout",
     "output_type": "stream",
     "text": [
      "Area of rectangle1: 15\n",
      "Perimeter of rectangle1: 16\n",
      "Area of rectangle2: 21\n",
      "Perimeter of rectangle2: 20\n",
      "Rectangle2 is bigger\n"
     ]
    }
   ],
   "source": [
    "class Rectangle:\n",
    "    def data(self, l, b):\n",
    "        self.l = l\n",
    "        self.b = b\n",
    "\n",
    "    def area(self):\n",
    "        return self.l * self.b\n",
    "\n",
    "    def perimeter(self):\n",
    "        return 2 * (self.l + self.b)\n",
    "\n",
    "\n",
    "l1 = int(input(\"Enter the length of rectangle1: \"))\n",
    "b1 = int(input(\"Enter the breadth of rectangle1: \"))\n",
    "l2 = int(input(\"Enter the length of rectangle2: \"))\n",
    "b2 = int(input(\"Enter the breadth of rectangle2: \"))\n",
    "\n",
    "r1 = Rectangle()\n",
    "r1.data(l1, b1)\n",
    "r2 = Rectangle()\n",
    "r2.data(l2, b2)\n",
    "\n",
    "print(\"Area of rectangle1:\", r1.area())\n",
    "print(\"Perimeter of rectangle1:\", r1.perimeter())\n",
    "print(\"Area of rectangle2:\", r2.area())\n",
    "print(\"Perimeter of rectangle2:\", r2.perimeter())\n",
    "\n",
    "if r1.area() > r2.area():\n",
    "    print(\"Rectangle1 is bigger\")\n",
    "elif r1.area() < r2.area():\n",
    "    print(\"Rectangle2 is bigger\")\n",
    "else:\n",
    "    print(\"Both rectangles are equal in area\")\n"
   ]
  },
  {
   "cell_type": "code",
   "execution_count": null,
   "id": "f9152c45-1f60-42c7-8710-3c3927ca91bd",
   "metadata": {},
   "outputs": [],
   "source": []
  }
 ],
 "metadata": {
  "kernelspec": {
   "display_name": "Python 3 (ipykernel)",
   "language": "python",
   "name": "python3"
  },
  "language_info": {
   "codemirror_mode": {
    "name": "ipython",
    "version": 3
   },
   "file_extension": ".py",
   "mimetype": "text/x-python",
   "name": "python",
   "nbconvert_exporter": "python",
   "pygments_lexer": "ipython3",
   "version": "3.11.7"
  }
 },
 "nbformat": 4,
 "nbformat_minor": 5
}
