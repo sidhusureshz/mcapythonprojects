{
 "cells": [
  {
   "cell_type": "code",
   "execution_count": null,
   "id": "8b2d8859-5529-4807-8f39-39d3fc23a776",
   "metadata": {},
   "outputs": [
    {
     "name": "stdin",
     "output_type": "stream",
     "text": [
      "Enter the Account Name:  sidhu\n",
      "Enter the Account Number:  1028\n",
      "Enter the Account Type:  savings\n"
     ]
    },
    {
     "name": "stdout",
     "output_type": "stream",
     "text": [
      "\n",
      "Select choice\n",
      "1. Deposit\n",
      "2. Withdraw\n",
      "3. Display Account\n",
      "4. Exit\n"
     ]
    },
    {
     "name": "stdin",
     "output_type": "stream",
     "text": [
      "Enter your choice :  1\n",
      "Enter amount to deposit:  2213\n"
     ]
    },
    {
     "name": "stdout",
     "output_type": "stream",
     "text": [
      "Amount Deposited: 2213.0\n",
      "\n",
      "Select choice\n",
      "1. Deposit\n",
      "2. Withdraw\n",
      "3. Display Account\n",
      "4. Exit\n"
     ]
    },
    {
     "name": "stdin",
     "output_type": "stream",
     "text": [
      "Enter your choice :  2\n",
      "Enter amount to withdraw:  3\n"
     ]
    },
    {
     "name": "stdout",
     "output_type": "stream",
     "text": [
      "Amount Withdrawn: 3.0\n",
      "\n",
      "Select choice\n",
      "1. Deposit\n",
      "2. Withdraw\n",
      "3. Display Account\n",
      "4. Exit\n"
     ]
    },
    {
     "name": "stdin",
     "output_type": "stream",
     "text": [
      "Enter your choice :  3\n"
     ]
    },
    {
     "name": "stdout",
     "output_type": "stream",
     "text": [
      "Account Name: sidhu\n",
      "Account Number: 1028\n",
      "Account Type: savings\n",
      "Current Balance: 2210.0\n",
      "\n",
      "Select choice\n",
      "1. Deposit\n",
      "2. Withdraw\n",
      "3. Display Account\n",
      "4. Exit\n"
     ]
    },
    {
     "name": "stdin",
     "output_type": "stream",
     "text": [
      "Enter your choice :  3\n"
     ]
    },
    {
     "name": "stdout",
     "output_type": "stream",
     "text": [
      "Account Name: sidhu\n",
      "Account Number: 1028\n",
      "Account Type: savings\n",
      "Current Balance: 2210.0\n",
      "\n",
      "Select choice\n",
      "1. Deposit\n",
      "2. Withdraw\n",
      "3. Display Account\n",
      "4. Exit\n"
     ]
    },
    {
     "name": "stdin",
     "output_type": "stream",
     "text": [
      "Enter your choice :  2\n",
      "Enter amount to withdraw:  3000\n"
     ]
    },
    {
     "name": "stdout",
     "output_type": "stream",
     "text": [
      "Insufficient Balance\n",
      "\n",
      "Select choice\n",
      "1. Deposit\n",
      "2. Withdraw\n",
      "3. Display Account\n",
      "4. Exit\n"
     ]
    },
    {
     "name": "stdin",
     "output_type": "stream",
     "text": [
      "Enter your choice :  1\n",
      "Enter amount to deposit:  500\n"
     ]
    },
    {
     "name": "stdout",
     "output_type": "stream",
     "text": [
      "Amount Deposited: 500.0\n",
      "\n",
      "Select choice\n",
      "1. Deposit\n",
      "2. Withdraw\n",
      "3. Display Account\n",
      "4. Exit\n"
     ]
    },
    {
     "name": "stdin",
     "output_type": "stream",
     "text": [
      "Enter your choice :  3\n"
     ]
    },
    {
     "name": "stdout",
     "output_type": "stream",
     "text": [
      "Account Name: sidhu\n",
      "Account Number: 1028\n",
      "Account Type: savings\n",
      "Current Balance: 2710.0\n",
      "\n",
      "Select choice\n",
      "1. Deposit\n",
      "2. Withdraw\n",
      "3. Display Account\n",
      "4. Exit\n"
     ]
    }
   ],
   "source": [
    "#Create a Bank account with members account number, name, type of account and balance.Write constructor and methods to deposit at the bank and withdraw an amount from the bank.\n",
    "class BankAccount:\n",
    "    def __init__(self, Acc_No, Acc_Type, Acc_name, Balance=0):\n",
    "        self.Acc_No = Acc_No\n",
    "        self.Acc_Type = Acc_Type\n",
    "        self.Acc_name = Acc_name\n",
    "        self.Balance = Balance\n",
    "\n",
    "    def deposit(self, amount):\n",
    "        self.Balance += amount\n",
    "        print(f\"Amount Deposited: {amount}\")\n",
    "\n",
    "    def withdraw(self, amount):\n",
    "        if amount > self.Balance:\n",
    "            print(\"Insufficient Balance\")\n",
    "        else:\n",
    "            self.Balance -= amount\n",
    "            print(f\"Amount Withdrawn: {amount}\")\n",
    "\n",
    "    def display(self):\n",
    "        print(\"Account Name:\", self.Acc_name)\n",
    "        print(\"Account Number:\", self.Acc_No)1\n",
    "        print(\"Account Type:\", self.Acc_Type)\n",
    "        print(\"Current Balance:\", self.Balance)\n",
    "\n",
    "\n",
    "name = input(\"Enter the Account Name: \")\n",
    "acc_no = int(input(\"Enter the Account Number: \"))\n",
    "acc_type = input(\"Enter the Account Type: \")\n",
    "\n",
    "account1 = BankAccount(acc_no, acc_type, name, 0)\n",
    "\n",
    "while True:\n",
    "    print(\"\\nSelect choice\")\n",
    "    print(\"1. Deposit\")\n",
    "    print(\"2. Withdraw\")\n",
    "    print(\"3. Display Account\")\n",
    "    print(\"4. Exit\")\n",
    "    \n",
    "    choice = int(input(\"Enter your choice : \"))\n",
    "\n",
    "    if choice == 1:\n",
    "        deposit_amt = float(input(\"Enter amount to deposit: \"))\n",
    "        account1.deposit(deposit_amt)\n",
    "    elif choice == 2:\n",
    "        withdraw_amt = float(input(\"Enter amount to withdraw: \"))\n",
    "        account1.withdraw(withdraw_amt)\n",
    "    elif choice == 3:\n",
    "        account1.display()\n",
    "    elif choice == 4:\n",
    "        print(\"Exit\")\n",
    "        break;\n"
   ]
  },
  {
   "cell_type": "code",
   "execution_count": null,
   "id": "2f8f59a2-b295-468a-bdc3-7b19f1f6cb16",
   "metadata": {},
   "outputs": [],
   "source": []
  },
  {
   "cell_type": "code",
   "execution_count": null,
   "id": "349f4ff9-afda-4b26-89e7-2c2832d527e9",
   "metadata": {},
   "outputs": [],
   "source": []
  },
  {
   "cell_type": "code",
   "execution_count": null,
   "id": "51a019c7-9ff9-46eb-be09-10729226f0f1",
   "metadata": {},
   "outputs": [],
   "source": []
  },
  {
   "cell_type": "code",
   "execution_count": null,
   "id": "b9989c19-160a-4af8-8c6c-d3f7a0684fc5",
   "metadata": {},
   "outputs": [],
   "source": []
  }
 ],
 "metadata": {
  "kernelspec": {
   "display_name": "Python 3 (ipykernel)",
   "language": "python",
   "name": "python3"
  },
  "language_info": {
   "codemirror_mode": {
    "name": "ipython",
    "version": 3
   },
   "file_extension": ".py",
   "mimetype": "text/x-python",
   "name": "python",
   "nbconvert_exporter": "python",
   "pygments_lexer": "ipython3",
   "version": "3.11.7"
  }
 },
 "nbformat": 4,
 "nbformat_minor": 5
}
