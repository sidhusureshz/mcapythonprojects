{
 "cells": [
  {
   "cell_type": "code",
   "execution_count": 12,
   "id": "0f00f63c-1834-4d60-9be2-40217b720b2f",
   "metadata": {},
   "outputs": [
    {
     "name": "stdin",
     "output_type": "stream",
     "text": [
      "enter the numbers -1 -2 -3 -4 1 2 3 4\n"
     ]
    },
    {
     "name": "stdout",
     "output_type": "stream",
     "text": [
      "the positive numbers are [1, 2, 3, 4]\n"
     ]
    }
   ],
   "source": [
    "#List Comprehensions\n",
    "#a)generate positive numbers from a given list of integers\n",
    "number=list(map(int,input(\"enter the numbers\").split()))\n",
    "positive=[num for num in number if num>0]\n",
    "print(\"the positive numbers are\",positive)"
   ]
  },
  {
   "cell_type": "code",
   "execution_count": 7,
   "id": "2b5add1e-fcb1-4a0f-8ec1-1e7267821dcb",
   "metadata": {},
   "outputs": [
    {
     "name": "stdin",
     "output_type": "stream",
     "text": [
      "enter the number: 5\n"
     ]
    },
    {
     "name": "stdout",
     "output_type": "stream",
     "text": [
      "The sqaure of 5 is [1, 4, 9, 16, 25]\n"
     ]
    }
   ],
   "source": [
    "#b)square of n numbers\n",
    "n=int(input(\"enter the number:\"))\n",
    "square=[i**2 for i in range(1,1+n)]\n",
    "print(\"The sqaure of\" ,n,\"is\",square)"
   ]
  },
  {
   "cell_type": "code",
   "execution_count": 10,
   "id": "14827bca-2320-4ff9-9fe3-7b38debcbe93",
   "metadata": {},
   "outputs": [
    {
     "name": "stdin",
     "output_type": "stream",
     "text": [
      "enter the word sidhu\n"
     ]
    },
    {
     "name": "stdout",
     "output_type": "stream",
     "text": [
      "the vowels are : ['i', 'u']\n"
     ]
    }
   ],
   "source": [
    "#c)form a list of vowels selected from a given words\n",
    "word=input(\"enter the word\")\n",
    "vowels=[ch for ch in word if ch.lower() in \"aeiou\"]\n",
    "print(\"the vowels are :\",vowels)"
   ]
  },
  {
   "cell_type": "code",
   "execution_count": 14,
   "id": "8b0276e4-ed8b-4038-87ae-0d818abb33b4",
   "metadata": {},
   "outputs": [
    {
     "name": "stdin",
     "output_type": "stream",
     "text": [
      "enter the word sidhu\n"
     ]
    },
    {
     "name": "stdout",
     "output_type": "stream",
     "text": [
      "the ordinals of given elements are: [115, 105, 100, 104, 117]\n"
     ]
    }
   ],
   "source": [
    "#d)list ordinal value of each element of a list\n",
    "word=input(\"enter the word\")\n",
    "ordinals=[ord(ch) for ch in word]\n",
    "print(\"the ordinals of given elements are:\",ordinals)"
   ]
  },
  {
   "cell_type": "code",
   "execution_count": null,
   "id": "434b8ea3-01c7-422a-96dc-36a801dfeefd",
   "metadata": {},
   "outputs": [],
   "source": []
  }
 ],
 "metadata": {
  "kernelspec": {
   "display_name": "Python 3 (ipykernel)",
   "language": "python",
   "name": "python3"
  },
  "language_info": {
   "codemirror_mode": {
    "name": "ipython",
    "version": 3
   },
   "file_extension": ".py",
   "mimetype": "text/x-python",
   "name": "python",
   "nbconvert_exporter": "python",
   "pygments_lexer": "ipython3",
   "version": "3.11.7"
  }
 },
 "nbformat": 4,
 "nbformat_minor": 5
}
