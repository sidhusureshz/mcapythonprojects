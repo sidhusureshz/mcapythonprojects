{
 "cells": [
  {
   "cell_type": "code",
   "execution_count": 4,
   "id": "07bd643d-e1df-45ce-9cdb-3b4b5430a244",
   "metadata": {},
   "outputs": [
    {
     "name": "stdin",
     "output_type": "stream",
     "text": [
      "enter 5 roll numbers of student: 1,2,3,4,5\n",
      "enter 5 names of student: sidhu,arshad,mudhasir,ahilash,shobith\n"
     ]
    },
    {
     "name": "stdout",
     "output_type": "stream",
     "text": [
      "Entered student details : {'1': 'sidhu', '2': 'arshad', '3': 'mudhasir', '4': 'ahilash', '5': 'shobith'}\n",
      "ascending order of roll numbers  [('1', 'sidhu'), ('2', 'arshad'), ('3', 'mudhasir'), ('4', 'ahilash'), ('5', 'shobith')]\n",
      "descending order of roll numbers  [('5', 'shobith'), ('4', 'ahilash'), ('3', 'mudhasir'), ('2', 'arshad'), ('1', 'sidhu')]\n"
     ]
    }
   ],
   "source": [
    "#create dictionary of 5 students (roll->name) and sort it all  by roll number(asc & dsc) [use sorted()]\n",
    "roll=input(\"enter 5 roll numbers of student:\").split(\",\")\n",
    "name=input(\"enter 5 names of student:\").split(\",\")\n",
    "student=dict(zip(roll,name))\n",
    "print(\"Entered student details :\",student)\n",
    "ao=sorted(student.items())\n",
    "ds=sorted(student.items(), reverse=True)\n",
    "print(\"ascending order of roll numbers \",ao)\n",
    "print(\"descending order of roll numbers \",ds)"
   ]
  },
  {
   "cell_type": "code",
   "execution_count": 5,
   "id": "51364a9f-f133-4084-81f7-98c483823b3c",
   "metadata": {},
   "outputs": [
    {
     "name": "stdin",
     "output_type": "stream",
     "text": [
      "enter 3 roll numbers of student: 12,3,4\n",
      "enter 3 names of student: sidhu,arshad,shobith\n",
      "enter 2 roll numbers of student: 5,6\n",
      "enter 2 names of student: mudhasir,sidharth\n"
     ]
    },
    {
     "name": "stdout",
     "output_type": "stream",
     "text": [
      "entered 3 students details: {'12': 'sidhu', '3': 'arshad', '4': 'shobith'}\n",
      "entered 2 students details: {'5': 'mudhasir', '6': 'sidharth'}\n",
      "Merged students details: {'12': 'sidhu', '3': 'arshad', '4': 'shobith', '5': 'mudhasir', '6': 'sidharth'}\n"
     ]
    }
   ],
   "source": [
    "#merge two student dictionaries(3+2 entries) using update()\n",
    "roll1=input(\"enter 3 roll numbers of student:\").split(\",\")\n",
    "name1=input(\"enter 3 names of student:\").split(\",\")\n",
    "students1=dict(zip(roll1,name1))\n",
    "roll2=input(\"enter 2 roll numbers of student:\").split(\",\")\n",
    "name2=input(\"enter 2 names of student:\").split(\",\")\n",
    "students2=dict(zip(roll2,name2))\n",
    "print(\"entered 3 students details:\",students1)\n",
    "print(\"entered 2 students details:\",students2)\n",
    "students1.update(students2)\n",
    "print(\"Merged students details:\",students1)"
   ]
  },
  {
   "cell_type": "code",
   "execution_count": null,
   "id": "41116af5-fcd6-49b4-b784-385abb2947a5",
   "metadata": {},
   "outputs": [],
   "source": []
  }
 ],
 "metadata": {
  "kernelspec": {
   "display_name": "Python 3 (ipykernel)",
   "language": "python",
   "name": "python3"
  },
  "language_info": {
   "codemirror_mode": {
    "name": "ipython",
    "version": 3
   },
   "file_extension": ".py",
   "mimetype": "text/x-python",
   "name": "python",
   "nbconvert_exporter": "python",
   "pygments_lexer": "ipython3",
   "version": "3.11.7"
  }
 },
 "nbformat": 4,
 "nbformat_minor": 5
}
