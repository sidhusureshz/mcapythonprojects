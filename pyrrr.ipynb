{
 "cells": [
  {
   "cell_type": "code",
   "execution_count": 2,
   "id": "9cdb87fe-683e-4ae0-ba40-0fffb099c3a2",
   "metadata": {},
   "outputs": [
    {
     "name": "stdout",
     "output_type": "stream",
     "text": [
      "good morning\n"
     ]
    }
   ],
   "source": [
    "print(\"good morning\")\n"
   ]
  },
  {
   "cell_type": "code",
   "execution_count": 3,
   "id": "30353f14-9d71-4e11-b615-9cdcd0c6aaaf",
   "metadata": {},
   "outputs": [
    {
     "data": {
      "text/plain": [
       "'j'"
      ]
     },
     "execution_count": 3,
     "metadata": {},
     "output_type": "execute_result"
    }
   ],
   "source": [
    "\"j\""
   ]
  },
  {
   "cell_type": "code",
   "execution_count": 5,
   "id": "76064446-21a1-4126-8d40-53a02dd2ec57",
   "metadata": {},
   "outputs": [
    {
     "data": {
      "text/plain": [
       "'SIDHU SURESH,PANNIPPALLIL HOUSE,KENICHIRA PO,WAYANAD,KERALA'"
      ]
     },
     "execution_count": 5,
     "metadata": {},
     "output_type": "execute_result"
    }
   ],
   "source": [
    "\"SIDHU SURESH,PANNIPPALLIL HOUSE,KENICHIRA PO,WAYANAD,KERALA\""
   ]
  },
  {
   "cell_type": "code",
   "execution_count": 8,
   "id": "7b2ddfab-e7f6-492f-87bf-d678e05f9246",
   "metadata": {},
   "outputs": [
    {
     "name": "stdout",
     "output_type": "stream",
     "text": [
      "SIDHU SURESH,\n",
      " PANNIPPALLIL HOUSE, \n",
      " KENICHIRA PO, \n",
      " WAYANAD, \n",
      " KERALA\n"
     ]
    }
   ],
   "source": [
    "print(\"SIDHU SURESH,\\n PANNIPPALLIL HOUSE, \\n KENICHIRA PO, \\n WAYANAD, \\n KERALA\")"
   ]
  },
  {
   "cell_type": "code",
   "execution_count": 9,
   "id": "e6862045-92ce-4e70-99dc-816ea4c70d17",
   "metadata": {},
   "outputs": [
    {
     "name": "stdout",
     "output_type": "stream",
     "text": [
      "12\n"
     ]
    }
   ],
   "source": [
    "print(36//3)"
   ]
  },
  {
   "cell_type": "code",
   "execution_count": 10,
   "id": "c066e158-702a-42a9-bceb-9e5a93d29b2c",
   "metadata": {},
   "outputs": [
    {
     "name": "stdout",
     "output_type": "stream",
     "text": [
      "4\n"
     ]
    }
   ],
   "source": [
    "print(2*2)"
   ]
  },
  {
   "cell_type": "code",
   "execution_count": 14,
   "id": "41559d75-5bcf-44c0-943d-38560f4f4d35",
   "metadata": {},
   "outputs": [
    {
     "name": "stdout",
     "output_type": "stream",
     "text": [
      "mca student\n"
     ]
    }
   ],
   "source": [
    "print('mca student')"
   ]
  },
  {
   "cell_type": "code",
   "execution_count": 15,
   "id": "cf3f069d-5d16-439d-9570-0beb368076a4",
   "metadata": {},
   "outputs": [
    {
     "name": "stdout",
     "output_type": "stream",
     "text": [
      "8\n"
     ]
    }
   ],
   "source": [
    "print(2**3)"
   ]
  },
  {
   "cell_type": "code",
   "execution_count": 17,
   "id": "4256dc5d-6e2c-4547-9344-4fc2340d7b37",
   "metadata": {},
   "outputs": [
    {
     "name": "stdout",
     "output_type": "stream",
     "text": [
      "mca \"student\"\n"
     ]
    }
   ],
   "source": [
    "print('mca \"student\"')"
   ]
  },
  {
   "cell_type": "code",
   "execution_count": 22,
   "id": "9c3431b0-2d4c-4921-a7ed-428288053bb2",
   "metadata": {},
   "outputs": [
    {
     "name": "stdin",
     "output_type": "stream",
     "text": [
      "Enter first Number 23\n",
      "Enter Second Number 434\n"
     ]
    },
    {
     "name": "stdout",
     "output_type": "stream",
     "text": [
      "sum is  457\n"
     ]
    }
   ],
   "source": [
    "a=int(input(\"Enter first Number\"))\n",
    "b=int(input(\"Enter Second Number\"))\n",
    "sum=a+b;\n",
    "print(\"sum is \",sum)"
   ]
  },
  {
   "cell_type": "code",
   "execution_count": 34,
   "id": "c8961836-6dee-4b7b-bdc4-2486f6e32d2b",
   "metadata": {},
   "outputs": [
    {
     "name": "stdout",
     "output_type": "stream",
     "text": [
      "name = sidhu \n"
     ]
    }
   ],
   "source": [
    "n=\"sidhu suresh\"\n",
    "print(\"name =\",n[:6])"
   ]
  },
  {
   "cell_type": "code",
   "execution_count": null,
   "id": "61e4f56d-5a05-43e6-a4bd-5855eb0ca759",
   "metadata": {},
   "outputs": [],
   "source": []
  },
  {
   "cell_type": "code",
   "execution_count": null,
   "id": "1e60d045-b975-4985-af61-f48df48f5d97",
   "metadata": {},
   "outputs": [],
   "source": []
  }
 ],
 "metadata": {
  "kernelspec": {
   "display_name": "Python 3 (ipykernel)",
   "language": "python",
   "name": "python3"
  },
  "language_info": {
   "codemirror_mode": {
    "name": "ipython",
    "version": 3
   },
   "file_extension": ".py",
   "mimetype": "text/x-python",
   "name": "python",
   "nbconvert_exporter": "python",
   "pygments_lexer": "ipython3",
   "version": "3.11.7"
  }
 },
 "nbformat": 4,
 "nbformat_minor": 5
}
